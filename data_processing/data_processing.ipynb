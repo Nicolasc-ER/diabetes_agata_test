{
 "cells": [
  {
   "attachments": {},
   "cell_type": "markdown",
   "metadata": {},
   "source": [
    "# This script generated data processing for Diabetes Data Set.\n",
    "\n",
    "1. Libraries and funtions to used\n",
    "2. Load data\n",
    "3. Explore completitud and accuracy data.\n",
    "4. Clean data for exploration\n",
    "5. Exploration data\n",
    "6. Conclusions"
   ]
  },
  {
   "attachments": {},
   "cell_type": "markdown",
   "metadata": {},
   "source": [
    "## Libraries and funtions to used"
   ]
  },
  {
   "cell_type": "code",
   "execution_count": 1,
   "metadata": {},
   "outputs": [],
   "source": [
    "import pandas as pd\n",
    "import numpy as np\n",
    "import matplotlib.pyplot as plt\n",
    "import seaborn as sns\n",
    "from scipy import stats"
   ]
  },
  {
   "attachments": {},
   "cell_type": "markdown",
   "metadata": {},
   "source": [
    "## Load Data"
   ]
  },
  {
   "cell_type": "code",
   "execution_count": 2,
   "metadata": {},
   "outputs": [],
   "source": [
    "diabetes = pd.read_csv('../dataset_diabetes/diabetic_data.csv')"
   ]
  },
  {
   "attachments": {},
   "cell_type": "markdown",
   "metadata": {},
   "source": [
    "## Cleaning Nulls"
   ]
  },
  {
   "cell_type": "code",
   "execution_count": 3,
   "metadata": {},
   "outputs": [],
   "source": [
    "diabetes = diabetes.replace('?', np.nan)\n",
    "diabetes = diabetes.replace('Unknown/Invalid', np.nan)\n",
    "diabetes = diabetes.replace('None', np.nan)"
   ]
  },
  {
   "cell_type": "code",
   "execution_count": 4,
   "metadata": {},
   "outputs": [],
   "source": [
    "delete_column_nulls = ['weight','payer_code']\n",
    "used_with_nulls = ['medical_specialty','max_glu_serum','A1Cresult']\n",
    "simple_input_nulls=['race','diag_3','diag_2','diag_1','gender']"
   ]
  },
  {
   "cell_type": "code",
   "execution_count": 5,
   "metadata": {},
   "outputs": [],
   "source": [
    "## This columns don't is posiible generated value because hava many nulls or not have intriced value\n",
    "diabetes = diabetes.drop(columns=delete_column_nulls)\n",
    "## This columns is posiible generated simple input for used, don't have many nulls and is simple categorical used\n",
    "for i in simple_input_nulls:\n",
    "    diabetes[i] = diabetes[i].fillna(diabetes[i].mode()[0])\n",
    "## This columns is posible used nulls, inclusive generated value for prediction results.\n",
    "diabetes[used_with_nulls]=diabetes[used_with_nulls].fillna('missing_values')"
   ]
  },
  {
   "attachments": {},
   "cell_type": "markdown",
   "metadata": {},
   "source": [
    "## Target column "
   ]
  },
  {
   "cell_type": "code",
   "execution_count": 6,
   "metadata": {},
   "outputs": [],
   "source": [
    "def target_process(data):\n",
    "    \"\"\"This funtion tranform target column in numeric column with cardinality relevance\n",
    "    \"\"\"\n",
    "    if data == 'NO':\n",
    "        data = 0\n",
    "    elif data == '>30':\n",
    "        data = 1\n",
    "    else:\n",
    "        data = 2\n",
    "    return data\n",
    "diabetes['readmitted']=diabetes['readmitted'].map(target_process)"
   ]
  },
  {
   "attachments": {},
   "cell_type": "markdown",
   "metadata": {},
   "source": [
    "## Tranformation columns"
   ]
  },
  {
   "attachments": {},
   "cell_type": "markdown",
   "metadata": {},
   "source": [
    "### Age"
   ]
  },
  {
   "cell_type": "code",
   "execution_count": 7,
   "metadata": {},
   "outputs": [],
   "source": [
    "## the age is have cardinality. for this reason is best used numeric data\n",
    "def age_range_to_number(age):\n",
    "    \"\"\"This funtion tranform 'age' column in numeric column with cardinality relevance\n",
    "    \"\"\"\n",
    "    dic_age={\n",
    "        '[0-10)' : 5,\n",
    "    '[10-20)' : 15,\n",
    "    '[20-30)' : 25, \n",
    "    '[30-40)' : 35, \n",
    "    '[40-50)' : 45, \n",
    "    '[50-60)' : 55,\n",
    "    '[60-70)' : 65, \n",
    "    '[70-80)' : 75,\n",
    "    '[80-90)' : 85,\n",
    "    '[90-100)' : 95}\n",
    "    return dic_age[age]\n",
    "\n",
    "diabetes['age']= diabetes['age'].map(age_range_to_number)"
   ]
  },
  {
   "attachments": {},
   "cell_type": "markdown",
   "metadata": {},
   "source": [
    "## General clean outliers"
   ]
  },
  {
   "attachments": {},
   "cell_type": "markdown",
   "metadata": {},
   "source": [
    "Delete aprox 5400 rows , that have any oulier value"
   ]
  },
  {
   "cell_type": "code",
   "execution_count": 8,
   "metadata": {},
   "outputs": [],
   "source": [
    "# Z score\n",
    "for column in diabetes.columns:\n",
    "    ## Select only float or numeric columns\n",
    "    if diabetes[column].dtype in [float, int, 'float64', 'int64']:\n",
    "        ## Apply Z-score\n",
    "        diabetes['z_score'] = np.abs(stats.zscore(diabetes[column]))\n",
    "        ## Select treshold for outlier\n",
    "        diabetes = diabetes[diabetes['z_score']<3.5]\n",
    "diabetes = diabetes.drop(columns=['z_score'])"
   ]
  },
  {
   "cell_type": "code",
   "execution_count": 9,
   "metadata": {},
   "outputs": [
    {
     "name": "stdout",
     "output_type": "stream",
     "text": [
      "<class 'pandas.core.frame.DataFrame'>\n",
      "Int64Index: 94668 entries, 1 to 101765\n",
      "Data columns (total 48 columns):\n",
      " #   Column                    Non-Null Count  Dtype \n",
      "---  ------                    --------------  ----- \n",
      " 0   encounter_id              94668 non-null  int64 \n",
      " 1   patient_nbr               94668 non-null  int64 \n",
      " 2   race                      94668 non-null  object\n",
      " 3   gender                    94668 non-null  object\n",
      " 4   age                       94668 non-null  int64 \n",
      " 5   admission_type_id         94668 non-null  int64 \n",
      " 6   discharge_disposition_id  94668 non-null  int64 \n",
      " 7   admission_source_id       94668 non-null  int64 \n",
      " 8   time_in_hospital          94668 non-null  int64 \n",
      " 9   medical_specialty         94668 non-null  object\n",
      " 10  num_lab_procedures        94668 non-null  int64 \n",
      " 11  num_procedures            94668 non-null  int64 \n",
      " 12  num_medications           94668 non-null  int64 \n",
      " 13  number_outpatient         94668 non-null  int64 \n",
      " 14  number_emergency          94668 non-null  int64 \n",
      " 15  number_inpatient          94668 non-null  int64 \n",
      " 16  diag_1                    94668 non-null  object\n",
      " 17  diag_2                    94668 non-null  object\n",
      " 18  diag_3                    94668 non-null  object\n",
      " 19  number_diagnoses          94668 non-null  int64 \n",
      " 20  max_glu_serum             94668 non-null  object\n",
      " 21  A1Cresult                 94668 non-null  object\n",
      " 22  metformin                 94668 non-null  object\n",
      " 23  repaglinide               94668 non-null  object\n",
      " 24  nateglinide               94668 non-null  object\n",
      " 25  chlorpropamide            94668 non-null  object\n",
      " 26  glimepiride               94668 non-null  object\n",
      " 27  acetohexamide             94668 non-null  object\n",
      " 28  glipizide                 94668 non-null  object\n",
      " 29  glyburide                 94668 non-null  object\n",
      " 30  tolbutamide               94668 non-null  object\n",
      " 31  pioglitazone              94668 non-null  object\n",
      " 32  rosiglitazone             94668 non-null  object\n",
      " 33  acarbose                  94668 non-null  object\n",
      " 34  miglitol                  94668 non-null  object\n",
      " 35  troglitazone              94668 non-null  object\n",
      " 36  tolazamide                94668 non-null  object\n",
      " 37  examide                   94668 non-null  object\n",
      " 38  citoglipton               94668 non-null  object\n",
      " 39  insulin                   94668 non-null  object\n",
      " 40  glyburide-metformin       94668 non-null  object\n",
      " 41  glipizide-metformin       94668 non-null  object\n",
      " 42  glimepiride-pioglitazone  94668 non-null  object\n",
      " 43  metformin-rosiglitazone   94668 non-null  object\n",
      " 44  metformin-pioglitazone    94668 non-null  object\n",
      " 45  change                    94668 non-null  object\n",
      " 46  diabetesMed               94668 non-null  object\n",
      " 47  readmitted                94668 non-null  int64 \n",
      "dtypes: int64(15), object(33)\n",
      "memory usage: 35.4+ MB\n"
     ]
    }
   ],
   "source": [
    "diabetes.info()"
   ]
  },
  {
   "attachments": {},
   "cell_type": "markdown",
   "metadata": {},
   "source": [
    "## Categorical oversize"
   ]
  },
  {
   "attachments": {},
   "cell_type": "markdown",
   "metadata": {},
   "source": [
    "diagnostics:\n",
    "\n",
    "Every diagnostic have problems from oversize dimentionality. \n",
    "\n",
    "Used https://www.hindawi.com/journals/bmri/2014/781670/tab2/ for diagnostic codes tranformation"
   ]
  },
  {
   "cell_type": "code",
   "execution_count": 10,
   "metadata": {},
   "outputs": [],
   "source": [
    "diag_factor= {'Circulatory':[x for x in range(390, 460)]+[785],\n",
    "              'Respiratory':[x for x in range(460, 519)]+[786],\n",
    "              'Digestive':[x for x in range(520, 579)]+[787],\n",
    "              'Diabetes':[250],\n",
    "              'Injury':[x for x in range(800, 999)],\n",
    "              'Musculoskeletal':[x for x in range(710, 739)],\n",
    "              'Genitourinary':[x for x in range(580, 629)],\n",
    "              'Neoplasms':[x for x in range(140, 239)]+[780,781,784,790,799,782]+[x for x in range(240, 279)]+[x for x in range(1, 139)],\n",
    "              }"
   ]
  },
  {
   "cell_type": "code",
   "execution_count": 11,
   "metadata": {},
   "outputs": [],
   "source": [
    "def diag_category(data):\n",
    "    \"\"\"Simplefies range numeric in categorical name for diagnostics\n",
    "    \"\"\"\n",
    "    result=None\n",
    "    try:\n",
    "        data=int(float(data))\n",
    "    except:\n",
    "        result='Others'\n",
    "    for i in diag_factor.keys():\n",
    "        if  data in diag_factor[i]:\n",
    "            result = i\n",
    "    if result == None:\n",
    "        result = 'Others'\n",
    "    return result"
   ]
  },
  {
   "cell_type": "code",
   "execution_count": 12,
   "metadata": {},
   "outputs": [],
   "source": [
    "## Apply simplification to every diagnostic\n",
    "diabetes['diag_1'] = diabetes['diag_1'].map(diag_category)\n",
    "diabetes['diag_2'] = diabetes['diag_2'].map(diag_category)\n",
    "diabetes['diag_3'] = diabetes['diag_3'].map(diag_category)\n"
   ]
  },
  {
   "attachments": {},
   "cell_type": "markdown",
   "metadata": {},
   "source": [
    "medical_specialty\n",
    "\n",
    "Used 15 more commons specialties and remaining tranform in others."
   ]
  },
  {
   "cell_type": "code",
   "execution_count": 13,
   "metadata": {},
   "outputs": [
    {
     "name": "stdout",
     "output_type": "stream",
     "text": [
      "missing_values                46517\n",
      "InternalMedicine              13709\n",
      "Emergency/Trauma               7175\n",
      "Family/GeneralPractice         6948\n",
      "Cardiology                     4944\n",
      "Others                         4100\n",
      "Surgery-General                2832\n",
      "Nephrology                     1433\n",
      "Orthopedics                    1385\n",
      "Orthopedics-Reconstructive     1122\n",
      "Radiologist                    1086\n",
      "Pulmonology                     825\n",
      "Psychiatry                      791\n",
      "Urology                         649\n",
      "ObstetricsandGynecology         616\n",
      "Gastroenterology                536\n",
      "Name: medical_specialty, dtype: int64\n"
     ]
    }
   ],
   "source": [
    "# Realizar el recuento de las categorías originales\n",
    "conteo_categorias = diabetes['medical_specialty'].value_counts()\n",
    "\n",
    "# Especificar el número de categorías menos comunes que se reemplazarán por \"Otros\"\n",
    "num_categorias_otros = 15\n",
    "\n",
    "# Identificar las categorías menos comunes\n",
    "categorias_otros = conteo_categorias.iloc[num_categorias_otros:].index\n",
    "print(diabetes['medical_specialty'].replace(categorias_otros, 'Others').value_counts())\n",
    "\n",
    "# # Reemplazar las categorías menos comunes por \"Otros\"\n",
    "diabetes['medical_specialty'] = diabetes['medical_specialty'].replace(categorias_otros, 'Others')"
   ]
  },
  {
   "attachments": {},
   "cell_type": "markdown",
   "metadata": {},
   "source": [
    "## Export processing data"
   ]
  },
  {
   "cell_type": "code",
   "execution_count": 14,
   "metadata": {},
   "outputs": [],
   "source": [
    "## Export to csv file\n",
    "diabetes.to_csv('../dataset_diabetes/training_diabetic_data.csv')"
   ]
  }
 ],
 "metadata": {
  "kernelspec": {
   "display_name": "Python 3",
   "language": "python",
   "name": "python3"
  },
  "language_info": {
   "codemirror_mode": {
    "name": "ipython",
    "version": 3
   },
   "file_extension": ".py",
   "mimetype": "text/x-python",
   "name": "python",
   "nbconvert_exporter": "python",
   "pygments_lexer": "ipython3",
   "version": "3.10.11"
  },
  "orig_nbformat": 4
 },
 "nbformat": 4,
 "nbformat_minor": 2
}
